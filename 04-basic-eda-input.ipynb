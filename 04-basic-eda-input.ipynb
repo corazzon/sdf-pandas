{
 "cells": [
  {
   "cell_type": "markdown",
   "id": "641c3830",
   "metadata": {},
   "source": [
    "## 서울시 공공자전거 대여소 정보 분석과 시각화\n",
    "\n",
    "데이터 출처 : [서울시 공공자전거 대여소 정보> 데이터셋> 공공데이터 | 서울열린데이터광장](http://data.seoul.go.kr/dataList/OA-13252/F/1/datasetView.do)\n",
    "\n",
    "\n",
    "\n",
    "* keyword\n",
    "    * seaborn - barplot, boxplot, violinplot\n",
    "    * **seaborn PairGrid vs matplotlib - subplots**\n",
    "    * seaborn FacetGrid\n",
    "        * **catplot 범주형 데이터 시각화 (kind: count, bar, box, boxen, violin)**\n",
    "        * relplot 연속된 수치 데이터 시각화 (kind: scatter, line)\n",
    "    * pandas - value_counts, cross_tab, groupby, pivot_table\n",
    "  \n",
    "<img src=\"https://seaborn.pydata.org/_images/function_overview_8_0.png\">\n",
    "\n",
    "* seaborn 에 대해 좀 더 알고 싶다면 다음의 튜토리얼을 참고해 보세요.\n",
    "* [User guide and tutorial — seaborn documentation](https://seaborn.pydata.org/tutorial.html)"
   ]
  },
  {
   "cell_type": "code",
   "execution_count": null,
   "id": "03594f34",
   "metadata": {},
   "outputs": [],
   "source": [
    "# pandas, numpy, seaborn, matplotlib.pyplot 불러오기\n"
   ]
  },
  {
   "cell_type": "markdown",
   "id": "59232b37",
   "metadata": {},
   "source": [
    "## 시각화를 위한 한글폰트 설정"
   ]
  },
  {
   "cell_type": "code",
   "execution_count": null,
   "id": "4f8a2cdf",
   "metadata": {},
   "outputs": [],
   "source": [
    "def get_font_family():\n",
    "    \"\"\"\n",
    "    시스템 환경에 따른 기본 폰트명을 반환하는 함수\n",
    "    \"\"\"\n",
    "    import platform\n",
    "    system_name = platform.system()\n",
    "\n",
    "    if system_name == \"Darwin\" :\n",
    "        font_family = \"AppleGothic\"\n",
    "    elif system_name == \"Windows\":\n",
    "        font_family = \"Malgun Gothic\"\n",
    "    else:\n",
    "        # Linux(colab)\n",
    "        !apt-get install fonts-nanum -qq  > /dev/null\n",
    "        !fc-cache -fv\n",
    "\n",
    "        import matplotlib as mpl\n",
    "        mpl.font_manager._rebuild()\n",
    "        findfont = mpl.font_manager.fontManager.findfont\n",
    "        mpl.font_manager.findfont = findfont\n",
    "        mpl.backends.backend_agg.findfont = findfont\n",
    "        \n",
    "        font_family = \"NanumBarunGothic\"\n",
    "    return font_family\n",
    "\n",
    "\n",
    "# style 설정은 꼭 폰트설정 위에서 합니다.\n",
    "# style 에 폰트 설정이 들어있으면 한글폰트가 초기화 되어 한글이 깨집니다.\n",
    "plt.style.use(\"seaborn\")\n",
    "# 폰트설정\n",
    "plt.rc(\"font\", family=get_font_family())\n",
    "\n",
    "# 마이너스폰트 설정\n",
    "plt.rc(\"axes\", unicode_minus=False)\n",
    "\n",
    "# 그래프에 retina display 적용\n",
    "%config InlineBackend.figure_format = 'retina'"
   ]
  },
  {
   "cell_type": "code",
   "execution_count": null,
   "id": "ac2ca7cd",
   "metadata": {},
   "outputs": [],
   "source": []
  },
  {
   "cell_type": "markdown",
   "id": "ec83ca2e",
   "metadata": {},
   "source": [
    "## 데이터 불러오기"
   ]
  },
  {
   "cell_type": "code",
   "execution_count": null,
   "id": "76a7b67b",
   "metadata": {},
   "outputs": [],
   "source": [
    "# data/bike_station.csv 파일 불러오기\n",
    "file_name = \"data/bike_station.csv\"\n",
    "# df"
   ]
  },
  {
   "cell_type": "markdown",
   "id": "d39957d8",
   "metadata": {},
   "source": [
    "## 데이터 요약"
   ]
  },
  {
   "cell_type": "code",
   "execution_count": null,
   "id": "771ea3b5",
   "metadata": {},
   "outputs": [],
   "source": [
    "# info\n"
   ]
  },
  {
   "cell_type": "markdown",
   "id": "7bd2bfe7",
   "metadata": {},
   "source": [
    "## 중복확인"
   ]
  },
  {
   "cell_type": "code",
   "execution_count": null,
   "id": "dcc3d4b0",
   "metadata": {},
   "outputs": [],
   "source": [
    "# duplicated\n"
   ]
  },
  {
   "cell_type": "markdown",
   "id": "16d70df7",
   "metadata": {},
   "source": [
    "## 결측치 확인\n",
    "### 결측치 합계"
   ]
  },
  {
   "cell_type": "code",
   "execution_count": null,
   "id": "76ee4e27",
   "metadata": {},
   "outputs": [],
   "source": []
  },
  {
   "cell_type": "markdown",
   "id": "3f79be2a",
   "metadata": {},
   "source": [
    "### 결측치 비율"
   ]
  },
  {
   "cell_type": "code",
   "execution_count": null,
   "id": "1b7076a4",
   "metadata": {},
   "outputs": [],
   "source": []
  },
  {
   "cell_type": "markdown",
   "id": "f726f99e",
   "metadata": {},
   "source": [
    "### 결측치 시각화"
   ]
  },
  {
   "cell_type": "code",
   "execution_count": null,
   "id": "8909ab90",
   "metadata": {},
   "outputs": [],
   "source": []
  },
  {
   "cell_type": "markdown",
   "id": "89813686",
   "metadata": {},
   "source": [
    "## 기초 기술통계 "
   ]
  },
  {
   "cell_type": "code",
   "execution_count": null,
   "id": "8853977c",
   "metadata": {
    "scrolled": false
   },
   "outputs": [],
   "source": [
    "# 수치 데이터 기술통계\n"
   ]
  },
  {
   "cell_type": "code",
   "execution_count": null,
   "id": "40b3e74c",
   "metadata": {},
   "outputs": [],
   "source": [
    "# 범주 데이터 기술통계\n"
   ]
  },
  {
   "cell_type": "markdown",
   "id": "26de2d19",
   "metadata": {},
   "source": [
    "## 수치 데이터\n",
    "\n",
    "### 전체 수치 변수의 히스토그램"
   ]
  },
  {
   "cell_type": "code",
   "execution_count": null,
   "id": "85d33873",
   "metadata": {},
   "outputs": [],
   "source": [
    "# hist\n"
   ]
  },
  {
   "cell_type": "markdown",
   "id": "54f8b29b",
   "metadata": {},
   "source": [
    "### 특정 수치 변수의 히스토그램"
   ]
  },
  {
   "cell_type": "code",
   "execution_count": null,
   "id": "65b63369",
   "metadata": {},
   "outputs": [],
   "source": [
    "# LCD histplot\n"
   ]
  },
  {
   "cell_type": "code",
   "execution_count": null,
   "id": "75481c54",
   "metadata": {},
   "outputs": [],
   "source": [
    "# \"LCD\", \"QR\" histplot\n"
   ]
  },
  {
   "cell_type": "code",
   "execution_count": null,
   "id": "5ec6886c",
   "metadata": {},
   "outputs": [],
   "source": [
    "# \"LCD\" boxplot\n"
   ]
  },
  {
   "cell_type": "code",
   "execution_count": null,
   "id": "25609687",
   "metadata": {},
   "outputs": [],
   "source": [
    "# \"LCD\", \"QR\" boxplot\n"
   ]
  },
  {
   "cell_type": "code",
   "execution_count": null,
   "id": "736273a9",
   "metadata": {},
   "outputs": [],
   "source": [
    "# \"LCD\" kdeplot\n"
   ]
  },
  {
   "cell_type": "code",
   "execution_count": null,
   "id": "9fd0bb74",
   "metadata": {},
   "outputs": [],
   "source": [
    "# \"LCD\", \"QR\" kdeplot\n"
   ]
  },
  {
   "cell_type": "code",
   "execution_count": null,
   "id": "89275967",
   "metadata": {},
   "outputs": [],
   "source": [
    "# \"LCD\" violinplot\n"
   ]
  },
  {
   "cell_type": "code",
   "execution_count": null,
   "id": "302d6a89",
   "metadata": {},
   "outputs": [],
   "source": [
    "# \"LCD\", \"QR\" violinplot\n"
   ]
  },
  {
   "cell_type": "markdown",
   "id": "f61a53fd",
   "metadata": {},
   "source": [
    "## 두 개의 수치 데이터 비교"
   ]
  },
  {
   "cell_type": "code",
   "execution_count": null,
   "id": "5fe8c14c",
   "metadata": {},
   "outputs": [],
   "source": [
    "# scatterplot 으로 경도와 위도를 시각화 합니다.\n"
   ]
  },
  {
   "cell_type": "code",
   "execution_count": null,
   "id": "98da272c",
   "metadata": {
    "scrolled": false
   },
   "outputs": [],
   "source": [
    "# scatterplot 으로 경도와 위도를 시각화 합니다. 자치구에 따라 다른 색상으로 표시합니다.\n",
    "plt.figure(figsize=(12, 10))\n"
   ]
  },
  {
   "cell_type": "code",
   "execution_count": null,
   "id": "9fe91f92",
   "metadata": {},
   "outputs": [],
   "source": [
    "# jointplot 으로 경도와 위도를 시각화 합니다. \n"
   ]
  },
  {
   "cell_type": "code",
   "execution_count": null,
   "id": "ee680660",
   "metadata": {},
   "outputs": [],
   "source": [
    "# jointplot 으로 경도와 위도를 시각화 합니다. kind=\"hex\"\n"
   ]
  },
  {
   "cell_type": "markdown",
   "id": "b53d58e1",
   "metadata": {},
   "source": [
    "### 상관 분석\n",
    "\n",
    "상관 분석(相關 分析, Correlation analysis) 또는 '상관관계' 또는 '상관'은 확률론과 통계학에서 두 변수간에 어떤 선형적 또는 비선형적 관계를 갖고 있는지를 분석하는 방법이다. 두 변수는 서로 독립적인 관계이거나 상관된 관계일 수 있으며 이때 두 변수간의 관계의 강도를 상관관계(Correlation, Correlation coefficient)라 한다. 상관분석에서는 상관관계의 정도를 나타내는 단위로 모상관계수로 ρ를 사용하며 표본 상관 계수로 r 을 사용한다.\n",
    "\n",
    "상관관계의 정도를 파악하는 상관 계수(相關係數, Correlation coefficient)는 두 변수간의 연관된 정도를 나타낼 뿐 인과관계를 설명하는 것은 아니다. 두 변수간에 원인과 결과의 인과관계가 있는지에 대한 것은 회귀분석을 통해 인과관계의 방향, 정도와 수학적 모델을 확인해 볼 수 있다.\n",
    "\n",
    "* 출처 : https://ko.wikipedia.org/wiki/%EC%83%81%EA%B4%80_%EB%B6%84%EC%84%9D\n",
    "\n",
    "### 피어슨 상관계수\n",
    "\n",
    "* r 값은 X 와 Y 가 완전히 동일하면 +1, 전혀 다르면 0, 반대방향으로 완전히 동일 하면 –1 을 가진다. \n",
    "* 결정계수(coefficient of determination)는 r^2 로 계산하며 이것은 X 로부터 Y 를 예측할 수 있는 정도를 의미한다.\n",
    "\n",
    "<img src=\"https://upload.wikimedia.org/wikipedia/commons/thumb/d/d4/Correlation_examples2.svg/800px-Correlation_examples2.svg.png\" width=\"500\">\n",
    "\n",
    "```\n",
    "일반적으로\n",
    "r이 -1.0과 -0.7 사이이면, 강한 음적 선형관계,\n",
    "r이 -0.7과 -0.3 사이이면, 뚜렷한 음적 선형관계,\n",
    "r이 -0.3과 -0.1 사이이면, 약한 음적 선형관계,\n",
    "r이 -0.1과 +0.1 사이이면, 거의 무시될 수 있는 선형관계,\n",
    "r이 +0.1과 +0.3 사이이면, 약한 양적 선형관계,\n",
    "r이 +0.3과 +0.7 사이이면, 뚜렷한 양적 선형관계,\n",
    "r이 +0.7과 +1.0 사이이면, 강한 양적 선형관계\n",
    "```\n",
    "\n",
    "<img src=\"https://upload.wikimedia.org/wikipedia/commons/3/34/Correlation_coefficient.png\" width=500>\n",
    "\n",
    "* 출처 :  https://ko.wikipedia.org/wiki/%EC%83%81%EA%B4%80_%EB%B6%84%EC%84%9D#%ED%94%BC%EC%96%B4%EC%8A%A8_%EC%83%81%EA%B4%80_%EA%B3%84%EC%88%98\n",
    "\n",
    "\n",
    "\n",
    "### 상관계수 구하기"
   ]
  },
  {
   "cell_type": "code",
   "execution_count": null,
   "id": "74c96c00",
   "metadata": {
    "scrolled": false
   },
   "outputs": [],
   "source": []
  },
  {
   "cell_type": "code",
   "execution_count": null,
   "id": "b1c17e9a",
   "metadata": {},
   "outputs": [],
   "source": [
    "# mask 구하기\n"
   ]
  },
  {
   "cell_type": "code",
   "execution_count": null,
   "id": "0caadd0d",
   "metadata": {},
   "outputs": [],
   "source": [
    "# heatmap 시각화\n"
   ]
  },
  {
   "cell_type": "markdown",
   "id": "7a85268b",
   "metadata": {},
   "source": [
    "## 범주형 데이터"
   ]
  },
  {
   "cell_type": "markdown",
   "id": "a70e9484",
   "metadata": {},
   "source": [
    "## 변수 하나의 빈도수 구하기"
   ]
  },
  {
   "cell_type": "code",
   "execution_count": null,
   "id": "ec335b06",
   "metadata": {},
   "outputs": [],
   "source": [
    "# 대여소별 운영방식 value_counts\n"
   ]
  },
  {
   "cell_type": "code",
   "execution_count": null,
   "id": "7ae3c042",
   "metadata": {},
   "outputs": [],
   "source": [
    "# 대여소별 운영방식 value_counts 의 비율로 구하기\n"
   ]
  },
  {
   "cell_type": "code",
   "execution_count": null,
   "id": "b5f110bb",
   "metadata": {},
   "outputs": [],
   "source": [
    "# 자치구별 대여소 빈도 수 value_counts 로 구하기\n"
   ]
  },
  {
   "cell_type": "code",
   "execution_count": null,
   "id": "657c1167",
   "metadata": {},
   "outputs": [],
   "source": [
    "# countplot 으로 자치구별 빈도수 구하기\n"
   ]
  },
  {
   "cell_type": "markdown",
   "id": "ef7b70b1",
   "metadata": {},
   "source": [
    "## 변수 두 개의 빈도수 "
   ]
  },
  {
   "cell_type": "code",
   "execution_count": null,
   "id": "f1efd9e0",
   "metadata": {},
   "outputs": [],
   "source": [
    "# 운영방식, 자치구 교차표 구하기\n"
   ]
  },
  {
   "cell_type": "code",
   "execution_count": null,
   "id": "62a08643",
   "metadata": {},
   "outputs": [],
   "source": [
    "# 운영방식, 자치구 countplot\n"
   ]
  },
  {
   "cell_type": "markdown",
   "id": "a95e9818",
   "metadata": {},
   "source": [
    "## 범주형 vs 수치형 데이터 비교\n",
    "* seaborn 의 통계연산을 지원하는 그래프 사용\n",
    "* pandas 의 groupby 를 통해 데이터 집계하기\n",
    "\n",
    "### 막대그래프"
   ]
  },
  {
   "cell_type": "code",
   "execution_count": null,
   "id": "494e40a0",
   "metadata": {},
   "outputs": [],
   "source": [
    "# 자치구 별 대여소별 평균 자전거 수 barplot \n",
    "plt.figure(figsize=(15, 5))\n"
   ]
  },
  {
   "cell_type": "code",
   "execution_count": null,
   "id": "48a71b15",
   "metadata": {},
   "outputs": [],
   "source": [
    "# 자치구 별 대여소별 합계 자전거 수 barplot \n",
    "plt.figure(figsize=(15, 5))\n"
   ]
  },
  {
   "cell_type": "markdown",
   "id": "0ee8fb40",
   "metadata": {},
   "source": [
    "### groupby\n",
    "\n",
    "<img src = 'https://pandas.pydata.org/docs/_images/06_groupby.svg' width=\"800\">"
   ]
  },
  {
   "cell_type": "code",
   "execution_count": null,
   "id": "ce507960",
   "metadata": {},
   "outputs": [],
   "source": [
    "# 자치구별 자전거 수 합계\n",
    "# gu_bike_count"
   ]
  },
  {
   "cell_type": "code",
   "execution_count": null,
   "id": "1752276f",
   "metadata": {},
   "outputs": [],
   "source": [
    "# 자치구별 자전거 수 합계 시각화\n",
    "# gu_bike_count"
   ]
  },
  {
   "cell_type": "markdown",
   "id": "5b378999",
   "metadata": {},
   "source": [
    "### pivot_table\n",
    "\n",
    "\n",
    "\n",
    "<img src = 'https://pandas.pydata.org/docs/_images/reshaping_pivot.png' width = '600'>"
   ]
  },
  {
   "cell_type": "code",
   "execution_count": null,
   "id": "ead76288",
   "metadata": {},
   "outputs": [],
   "source": [
    "# 자치구별 자전거 수 합계\n"
   ]
  },
  {
   "cell_type": "code",
   "execution_count": null,
   "id": "58bcfbef",
   "metadata": {},
   "outputs": [],
   "source": [
    "# 자치구별 자전거 수 합계 sns.barplot 으로 시각화\n",
    "plt.figure(figsize=(15, 5))\n"
   ]
  },
  {
   "cell_type": "markdown",
   "id": "804b006d",
   "metadata": {},
   "source": [
    "### 상자수염그림\n",
    "* boxplot\n",
    "\n",
    "\n",
    "#### 기술통계 용어\n",
    "\n",
    "* 백분위 수 : 데이터를 백등분 한 것\n",
    "* 사분위 수 : 데이터를 4등분 한 것\n",
    "* 중위수 : 데이터의 정 가운데 순위에 해당하는 값.(관측치의 절반은 크거나 같고 나머지 절반은 작거나 같다.)\n",
    "* 제 3사분위 수 (Q3) : 중앙값 기준으로 상위 50% 중의 중앙값, 전체 데이터 중 상위 25%에 해당하는 값\n",
    "* 제 1사분위 수 (Q1) : 중앙값 기준으로 하위 50% 중의 중앙값, 전체 데이터 중 하위 25%에 해당하는 값\n",
    "* 사분위 범위 수(IQR) : 데이터의 중간 50% (Q3 - Q1)\n",
    "\n",
    "* 출처 : [상자 수염 그림 - 위키백과, 우리 모두의 백과사전](https://ko.wikipedia.org/wiki/%EC%83%81%EC%9E%90_%EC%88%98%EC%97%BC_%EA%B7%B8%EB%A6%BC)\n",
    "\n",
    "<img src=\"https://miro.medium.com/max/1400/1*NRlqiZGQdsIyAu0KzP7LaQ.png\" width=\"400\">\n",
    "\n",
    "* 이미지 출처 : https://towardsdatascience.com/understanding-boxplots-5e2df7bcbd51"
   ]
  },
  {
   "cell_type": "code",
   "execution_count": null,
   "id": "34991d6c",
   "metadata": {},
   "outputs": [],
   "source": [
    "# 자치구별 자전거 수 sns.boxplot 으로 시각화 hue=\"운영방식\"\n",
    "plt.figure(figsize=(15, 5))\n"
   ]
  },
  {
   "cell_type": "code",
   "execution_count": null,
   "id": "30e05cca",
   "metadata": {},
   "outputs": [],
   "source": [
    "# 위에서 구한 boxplot 에 대한 수치를 groupby로 구해봅니다.\n"
   ]
  },
  {
   "cell_type": "markdown",
   "id": "41ed5f02",
   "metadata": {},
   "source": [
    "### 바이올린플롯"
   ]
  },
  {
   "cell_type": "code",
   "execution_count": null,
   "id": "86a66d29",
   "metadata": {},
   "outputs": [],
   "source": [
    "# 자치구별 자전거 수 sns.boxplot 으로 시각화 hue=\"운영방식\"\n",
    "plt.figure(figsize=(15, 5))\n"
   ]
  },
  {
   "cell_type": "markdown",
   "id": "4ed86198",
   "metadata": {},
   "source": [
    "## 설치 시기\n",
    "### 선그래프"
   ]
  },
  {
   "cell_type": "code",
   "execution_count": null,
   "id": "3804b024",
   "metadata": {},
   "outputs": [],
   "source": [
    "# pointplot  x=\"연도\", y=\"자전거수\", hue=\"운영방식\" 합계\n"
   ]
  },
  {
   "cell_type": "code",
   "execution_count": null,
   "id": "d3c7a849",
   "metadata": {},
   "outputs": [],
   "source": [
    "# groupby 연도별 운영방식 합계\n"
   ]
  },
  {
   "cell_type": "code",
   "execution_count": null,
   "id": "038540c5",
   "metadata": {},
   "outputs": [],
   "source": [
    "# pivot_table index=\"연도\", columns=\"운영방식\", values=\"대여소번호\"\n"
   ]
  },
  {
   "cell_type": "code",
   "execution_count": null,
   "id": "5bb4bc66",
   "metadata": {},
   "outputs": [],
   "source": [
    "# pointplot x=\"월\", y=\"자전거수\", hue=\"연도\"\n"
   ]
  },
  {
   "cell_type": "code",
   "execution_count": null,
   "id": "12617bf4",
   "metadata": {},
   "outputs": [],
   "source": [
    "# barplot x=\"연도\", y=\"자전거수\", hue=\"운영방식\"\n"
   ]
  },
  {
   "cell_type": "code",
   "execution_count": null,
   "id": "4d416b17",
   "metadata": {},
   "outputs": [],
   "source": [
    "# violinplot x=\"연도\", y=\"자전거수\", hue=\"운영방식\"\n",
    "plt.figure(figsize=(15, 5))\n"
   ]
  },
  {
   "cell_type": "code",
   "execution_count": null,
   "id": "a5f600ed",
   "metadata": {},
   "outputs": [],
   "source": [
    "# barplot x=\"월\", y=\"자전거수\", hue=\"운영방식\" 합계\n"
   ]
  },
  {
   "cell_type": "code",
   "execution_count": null,
   "id": "9b9d7c57",
   "metadata": {},
   "outputs": [],
   "source": [
    "# catplot x=\"월\", y=\"자전거수\", hue=\"운영방식\" 을 연도별로 시각화 합니다.\n"
   ]
  },
  {
   "cell_type": "markdown",
   "id": "53725c65",
   "metadata": {},
   "source": [
    "## 대여소 지도 시각화\n",
    "\n",
    "## Folium 으로 지도 활용하기\n",
    "* 다음의 프롬프트 창을 열어 conda 명령어로 설치합니다.\n",
    "<img src=\"https://i.imgur.com/x7pzfCP.jpg\">\n",
    "* <font color=\"red\">주피터 노트북 상에서 설치가 되지 않으니</font> anaconda prompt 를 열어서 설치해 주세요.\n",
    "\n",
    "\n",
    "* 윈도우\n",
    "    * <font color=\"red\">관리자 권한</font>으로 아나콘다를 설치하셨다면 다음의 방법으로 anaconda prompt 를 열어 주세요.\n",
    "    <img src=\"https://i.imgur.com/GhoLwsd.png\">\n",
    "* 맥\n",
    "    * terminal 프로그램을 열어 설치해 주세요. \n",
    "\n",
    "\n",
    "* 다음의 문서를 활용해서 지도를 표현합니다.\n",
    "* https://nbviewer.jupyter.org/github/python-visualization/folium/blob/main/examples/Quickstart.ipynb\n",
    "* Folium 사용예제 :\n",
    "http://nbviewer.jupyter.org/github/python-visualization/folium/tree/main/examples/"
   ]
  },
  {
   "cell_type": "code",
   "execution_count": null,
   "id": "5039f7ae",
   "metadata": {},
   "outputs": [],
   "source": [
    "# 아나콘다에서 folium 을 사용하기 위해서는 별도의 설치가 필요\n",
    "# https://anaconda.org/conda-forge/folium\n",
    "# conda install -c conda-forge folium \n",
    "# 지도 시각화를 위한 라이브러리\n"
   ]
  },
  {
   "cell_type": "code",
   "execution_count": null,
   "id": "69869f21",
   "metadata": {},
   "outputs": [],
   "source": [
    "# 지도의 중심을 지정하기 위해 위도와 경도의 평균을 구합니다. \n",
    "# lat, long"
   ]
  },
  {
   "cell_type": "markdown",
   "id": "db0248af",
   "metadata": {},
   "source": [
    "### 반복문과 조건문으로 대여소를 지도에 표시하기"
   ]
  },
  {
   "cell_type": "code",
   "execution_count": null,
   "id": "1397d685",
   "metadata": {},
   "outputs": [],
   "source": [
    "# CircleMarker 로 대여소를 표시합니다.\n",
    "# tiles=\"Stamen Toner\"\n",
    "# 운영방식에 따라 원 색상을 다르게 표시합니다.\n"
   ]
  },
  {
   "cell_type": "markdown",
   "id": "166ee189",
   "metadata": {},
   "source": [
    "### choropleth 를 위한 GeoJSON 파일로드\n",
    "\n",
    "* 구별로 대여소수를 표현하기 위해 GeoJSON 파일 로드\n",
    "    * 파일출처 : [southkorea/seoul-maps: Seoul administrative divisions in ESRI Shapefile, GeoJSON and TopoJSON formats.](https://github.com/southkorea/seoul-maps)\n",
    "    * 이 링크에서도 다운로드가 가능합니다. https://drive.google.com/open?id=13j8-_XLdPe0pptsqu8-uyE-0Ym6V2jw5\n",
    "    \n",
    "* Choropleth-maps : https://python-visualization.github.io/folium/quickstart.html#Choropleth-maps\n",
    "\n",
    "\n",
    "* 공식문서 예제\n",
    "\n",
    "```python\n",
    "import pandas as pd\n",
    "\n",
    "url = (\n",
    "    \"https://raw.githubusercontent.com/python-visualization/folium/master/examples/data\"\n",
    ")\n",
    "state_geo = f\"{url}/us-states.json\"\n",
    "state_unemployment = f\"{url}/US_Unemployment_Oct2012.csv\"\n",
    "state_data = pd.read_csv(state_unemployment)\n",
    "\n",
    "m = folium.Map(location=[48, -102], zoom_start=3)\n",
    "\n",
    "folium.Choropleth(\n",
    "    geo_data=state_geo,\n",
    "    name=\"choropleth\",\n",
    "    data=state_data,\n",
    "    columns=[\"State\", \"Unemployment\"],\n",
    "    key_on=\"feature.id\",\n",
    "    fill_color=\"YlGn\",\n",
    "    fill_opacity=0.7,\n",
    "    line_opacity=0.2,\n",
    "    legend_name=\"Unemployment Rate (%)\",\n",
    ").add_to(m)\n",
    "\n",
    "folium.LayerControl().add_to(m)\n",
    "\n",
    "m\n",
    "```"
   ]
  },
  {
   "cell_type": "code",
   "execution_count": null,
   "id": "24c55cc7",
   "metadata": {
    "scrolled": true
   },
   "outputs": [],
   "source": [
    "# 서울의 행정구역 경계를 GeoJSON으로 표현한 파일입니다. \n",
    "# 이 파일을 불러와 구별 대여소수를 표현합니다.\n",
    "geo_path = 'data/seoul_municipalities_geo_simple.json'\n",
    "print(geo_path)\n",
    "\n",
    "\n",
    "import json\n",
    "geo_json = json.load(open(geo_path, encoding=\"utf-8\"))"
   ]
  },
  {
   "cell_type": "code",
   "execution_count": null,
   "id": "a9138d79",
   "metadata": {},
   "outputs": [],
   "source": [
    "# features, properties 정보 보기\n"
   ]
  },
  {
   "cell_type": "code",
   "execution_count": null,
   "id": "287b10e3",
   "metadata": {},
   "outputs": [],
   "source": [
    "# features, properties, SIG_KOR_NM 정보 보기\n"
   ]
  },
  {
   "cell_type": "code",
   "execution_count": null,
   "id": "36346251",
   "metadata": {},
   "outputs": [],
   "source": [
    "# 자치구별 자전거수 합계 groupby 로 구하기\n",
    "# df_gu_bike_count\n"
   ]
  },
  {
   "cell_type": "code",
   "execution_count": null,
   "id": "91a6a27e",
   "metadata": {},
   "outputs": [],
   "source": [
    "# choropleth의 색상은 fill_color = 'YlGn'을 사용합니다.\n",
    "# name='choropleth'\n",
    "# columns=['자치구', '자전거수'],\n",
    "# key_on='feature.properties.SIG_KOR_NM'\n"
   ]
  },
  {
   "cell_type": "code",
   "execution_count": null,
   "id": "021d0c66",
   "metadata": {},
   "outputs": [],
   "source": [
    "# choropleth의 색상은 fill_color = 'YlGn'을 사용합니다.\n",
    "# tiles=\"Stamen Toner\"\n"
   ]
  },
  {
   "cell_type": "code",
   "execution_count": null,
   "id": "5bfad3f4",
   "metadata": {},
   "outputs": [],
   "source": []
  },
  {
   "cell_type": "code",
   "execution_count": null,
   "id": "af3034de",
   "metadata": {},
   "outputs": [],
   "source": []
  },
  {
   "cell_type": "code",
   "execution_count": null,
   "id": "8887f8b8",
   "metadata": {},
   "outputs": [],
   "source": []
  }
 ],
 "metadata": {
  "kernelspec": {
   "display_name": "Python 3 (ipykernel)",
   "language": "python",
   "name": "python3"
  },
  "language_info": {
   "codemirror_mode": {
    "name": "ipython",
    "version": 3
   },
   "file_extension": ".py",
   "mimetype": "text/x-python",
   "name": "python",
   "nbconvert_exporter": "python",
   "pygments_lexer": "ipython3",
   "version": "3.7.6"
  },
  "toc": {
   "base_numbering": 1,
   "nav_menu": {},
   "number_sections": true,
   "sideBar": true,
   "skip_h1_title": false,
   "title_cell": "Table of Contents",
   "title_sidebar": "Contents",
   "toc_cell": false,
   "toc_position": {
    "height": "calc(100% - 180px)",
    "left": "10px",
    "top": "150px",
    "width": "288px"
   },
   "toc_section_display": true,
   "toc_window_display": true
  },
  "varInspector": {
   "cols": {
    "lenName": 16,
    "lenType": 16,
    "lenVar": 40
   },
   "kernels_config": {
    "python": {
     "delete_cmd_postfix": "",
     "delete_cmd_prefix": "del ",
     "library": "var_list.py",
     "varRefreshCmd": "print(var_dic_list())"
    },
    "r": {
     "delete_cmd_postfix": ") ",
     "delete_cmd_prefix": "rm(",
     "library": "var_list.r",
     "varRefreshCmd": "cat(var_dic_list()) "
    }
   },
   "types_to_exclude": [
    "module",
    "function",
    "builtin_function_or_method",
    "instance",
    "_Feature"
   ],
   "window_display": false
  }
 },
 "nbformat": 4,
 "nbformat_minor": 5
}
