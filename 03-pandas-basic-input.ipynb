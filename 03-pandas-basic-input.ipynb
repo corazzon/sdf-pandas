{
 "cells": [
  {
   "cell_type": "markdown",
   "id": "da579dbc",
   "metadata": {},
   "source": [
    "## 서울시 공공자전거 대여소 정보 분석으로 판다스 입문하기\n",
    "\n",
    "* 데이터 출처 : [서울시 공공자전거 대여소 정보> 데이터셋> 공공데이터 | 서울열린데이터광장](http://data.seoul.go.kr/dataList/OA-13252/F/1/datasetView.do)\n",
    "\n",
    "<img src=\"https://pandas.pydata.org/docs/_static/pandas.svg\" width=\"300\">\n",
    "\n",
    "## Pandas\n",
    "* https://pandas.pydata.org/\n",
    "* https://pandas.pydata.org/Pandas_Cheat_Sheet.pdf\n",
    "* [10 minutes to pandas — pandasdocumentation](https://pandas.pydata.org/docs/user_guide/10min.html)\n",
    "* [Pandas 10분 완성](https://dataitgirls2.github.io/10minutes2pandas/)"
   ]
  },
  {
   "cell_type": "code",
   "execution_count": null,
   "id": "03594f34",
   "metadata": {},
   "outputs": [],
   "source": [
    "# pandas, numpy 불러오기\n",
    "\n"
   ]
  },
  {
   "cell_type": "markdown",
   "id": "ec83ca2e",
   "metadata": {},
   "source": [
    "## 데이터 불러오기\n",
    "\n",
    "데이터 출처 : [서울시 공공자전거 대여소 정보> 데이터셋> 공공데이터 | 서울열린데이터광장](http://data.seoul.go.kr/dataList/OA-13252/F/1/datasetView.do)"
   ]
  },
  {
   "cell_type": "code",
   "execution_count": null,
   "id": "e6eb700d",
   "metadata": {},
   "outputs": [],
   "source": [
    "# 공공자전거 대여소 정보(21.12월 기준).xlsx 파일을 불러옵니다. \n",
    "# sheet_name=2 에 해당 데이터가 있습니다.\n",
    "# raw"
   ]
  },
  {
   "cell_type": "markdown",
   "id": "5f1df9fc",
   "metadata": {},
   "source": [
    "## 데이터 전처리\n",
    "### 컬럼명 변경하고 사용하지 않는 데이터 제거"
   ]
  },
  {
   "cell_type": "code",
   "execution_count": null,
   "id": "c8184606",
   "metadata": {
    "scrolled": true
   },
   "outputs": [],
   "source": [
    "# 컬럼 정보가 들어있는 데이터만 가져오기\n"
   ]
  },
  {
   "cell_type": "code",
   "execution_count": null,
   "id": "761dd7e5",
   "metadata": {},
   "outputs": [],
   "source": [
    "# 컬럼이름\n",
    "col_names = [\"대여소번호\",\"대여소명\", \"자치구\", \"상세주소\", \"위도\", \"경도\", \"설치시기\", \"LCD\", \"QR\", \"운영방식\"]"
   ]
  },
  {
   "cell_type": "code",
   "execution_count": null,
   "id": "6ecc912f",
   "metadata": {},
   "outputs": [],
   "source": [
    "# 컬럼명 변경하고 4번 인덱스 행부터 사용하기\n",
    "# df\n"
   ]
  },
  {
   "cell_type": "markdown",
   "id": "f12a726a",
   "metadata": {},
   "source": [
    "### 인덱스 초기화"
   ]
  },
  {
   "cell_type": "code",
   "execution_count": null,
   "id": "603289ac",
   "metadata": {},
   "outputs": [],
   "source": [
    "# reset_index 로 초기화를 합니다. 기존 인덱스는 제거합니다.\n",
    "# df"
   ]
  },
  {
   "cell_type": "markdown",
   "id": "d39957d8",
   "metadata": {},
   "source": [
    "## 데이터 요약"
   ]
  },
  {
   "cell_type": "code",
   "execution_count": null,
   "id": "771ea3b5",
   "metadata": {},
   "outputs": [],
   "source": [
    "# info\n"
   ]
  },
  {
   "cell_type": "markdown",
   "id": "a08ba614",
   "metadata": {},
   "source": [
    "## 데이터 타입 변경하기"
   ]
  },
  {
   "cell_type": "code",
   "execution_count": null,
   "id": "d4ca67bc",
   "metadata": {},
   "outputs": [],
   "source": [
    "# LCD, QR을 수치 형태로 변경합니다.\n",
    "# df[\"LCD\"]\n",
    "# df[\"QR\"]"
   ]
  },
  {
   "cell_type": "markdown",
   "id": "d6bc2829",
   "metadata": {},
   "source": [
    "## Attributes를 통한 데이터의 개별 정보 보기\n",
    "* https://pandas.pydata.org/docs/reference/frame.html"
   ]
  },
  {
   "cell_type": "code",
   "execution_count": null,
   "id": "ef9e5872",
   "metadata": {},
   "outputs": [],
   "source": [
    "# shape\n"
   ]
  },
  {
   "cell_type": "code",
   "execution_count": null,
   "id": "0a368936",
   "metadata": {},
   "outputs": [],
   "source": [
    "# dtypes\n"
   ]
  },
  {
   "cell_type": "code",
   "execution_count": null,
   "id": "33d4eaaf",
   "metadata": {},
   "outputs": [],
   "source": [
    "# index\n"
   ]
  },
  {
   "cell_type": "code",
   "execution_count": null,
   "id": "f9107ba7",
   "metadata": {},
   "outputs": [],
   "source": [
    "# columns\n"
   ]
  },
  {
   "cell_type": "code",
   "execution_count": null,
   "id": "b3a98b5b",
   "metadata": {},
   "outputs": [],
   "source": [
    "# values\n"
   ]
  },
  {
   "cell_type": "markdown",
   "id": "7bd2bfe7",
   "metadata": {},
   "source": [
    "## 중복확인"
   ]
  },
  {
   "cell_type": "code",
   "execution_count": null,
   "id": "dcc3d4b0",
   "metadata": {},
   "outputs": [],
   "source": [
    "# duplicated 확인\n"
   ]
  },
  {
   "cell_type": "markdown",
   "id": "16d70df7",
   "metadata": {},
   "source": [
    "## 결측치 확인\n",
    "### 결측치 합계"
   ]
  },
  {
   "cell_type": "code",
   "execution_count": null,
   "id": "76ee4e27",
   "metadata": {},
   "outputs": [],
   "source": [
    "# 결측치 합계\n"
   ]
  },
  {
   "cell_type": "markdown",
   "id": "3f79be2a",
   "metadata": {},
   "source": [
    "### 결측치 비율"
   ]
  },
  {
   "cell_type": "code",
   "execution_count": null,
   "id": "1b7076a4",
   "metadata": {},
   "outputs": [],
   "source": [
    "# 결측치 비율\n"
   ]
  },
  {
   "cell_type": "markdown",
   "id": "04ceac93",
   "metadata": {},
   "source": [
    "### LCD, QR 둘 다 운영중인 대여소 찾기"
   ]
  },
  {
   "cell_type": "code",
   "execution_count": null,
   "id": "189950b7",
   "metadata": {},
   "outputs": [],
   "source": [
    "# LCD, QR 둘다 notnull 인 곳 == 운영중인 곳\n"
   ]
  },
  {
   "cell_type": "markdown",
   "id": "0c8fcf1f",
   "metadata": {},
   "source": [
    "## 파생변수 만들기"
   ]
  },
  {
   "cell_type": "code",
   "execution_count": null,
   "id": "358912e7",
   "metadata": {},
   "outputs": [],
   "source": [
    "# LCD, QR을 더해서 자전거수 파생변수 만들기\n",
    "# df[\"자전거수\"]"
   ]
  },
  {
   "cell_type": "code",
   "execution_count": null,
   "id": "cb45bda9",
   "metadata": {},
   "outputs": [],
   "source": [
    "# 연도 파생변수 만들기\n",
    "# df[\"연도\"]"
   ]
  },
  {
   "cell_type": "code",
   "execution_count": null,
   "id": "57d1e5e8",
   "metadata": {},
   "outputs": [],
   "source": [
    "# 월(month), 일(day), 요일(dayofweek) 만들기\n",
    "# df[\"월\"]\n",
    "# df[\"일\"]\n",
    "# df[\"요일\"]"
   ]
  },
  {
   "cell_type": "markdown",
   "id": "89813686",
   "metadata": {},
   "source": [
    "## 기초 기술통계 "
   ]
  },
  {
   "cell_type": "code",
   "execution_count": null,
   "id": "8853977c",
   "metadata": {
    "scrolled": false
   },
   "outputs": [],
   "source": [
    "# describe\n"
   ]
  },
  {
   "cell_type": "code",
   "execution_count": null,
   "id": "40b3e74c",
   "metadata": {},
   "outputs": [],
   "source": [
    "# describe\n"
   ]
  },
  {
   "cell_type": "markdown",
   "id": "24bcd257",
   "metadata": {},
   "source": [
    "## 정렬하기\n",
    "\n",
    "### 자전거 수가 많은 대여소"
   ]
  },
  {
   "cell_type": "code",
   "execution_count": null,
   "id": "d94917d9",
   "metadata": {},
   "outputs": [],
   "source": [
    "# sort_values 로 \"자전거수\"가 많은 대여소 찾기\n"
   ]
  },
  {
   "cell_type": "code",
   "execution_count": null,
   "id": "e55e2acd",
   "metadata": {},
   "outputs": [],
   "source": [
    "# nlargest 로 \"자전거수\"가 많은 대여소 찾기\n"
   ]
  },
  {
   "cell_type": "markdown",
   "id": "39d3ffcf",
   "metadata": {},
   "source": [
    "## DataFrame\n",
    "\n",
    "<img src=\"https://pandas.pydata.org/docs/_images/01_table_dataframe.svg\">"
   ]
  },
  {
   "cell_type": "code",
   "execution_count": null,
   "id": "8caeba69",
   "metadata": {},
   "outputs": [],
   "source": [
    "# df 의 type 확인\n",
    "type(df)"
   ]
  },
  {
   "cell_type": "markdown",
   "id": "ddb952b2",
   "metadata": {},
   "source": [
    "## Series\n",
    "\n",
    "<img src=\"https://pandas.pydata.org/docs/_images/01_table_series.svg\">"
   ]
  },
  {
   "cell_type": "code",
   "execution_count": null,
   "id": "c5a1c970",
   "metadata": {},
   "outputs": [],
   "source": [
    "# series 의 type 확인\n"
   ]
  },
  {
   "cell_type": "code",
   "execution_count": null,
   "id": "9fde6757",
   "metadata": {},
   "outputs": [],
   "source": [
    "# 컬럼 인덱싱\n"
   ]
  },
  {
   "cell_type": "code",
   "execution_count": null,
   "id": "5b76c744",
   "metadata": {},
   "outputs": [],
   "source": [
    "# 2개 이상의 컬럼 인덱싱\n"
   ]
  },
  {
   "cell_type": "markdown",
   "id": "4bd3b36e",
   "metadata": {},
   "source": [
    "## loc"
   ]
  },
  {
   "cell_type": "code",
   "execution_count": null,
   "id": "0b33fe50",
   "metadata": {},
   "outputs": [],
   "source": [
    "# loc를 통한 행 인덱싱\n"
   ]
  },
  {
   "cell_type": "code",
   "execution_count": null,
   "id": "78672db1",
   "metadata": {
    "scrolled": true
   },
   "outputs": [],
   "source": [
    "# 여러 행 인덱싱\n"
   ]
  },
  {
   "cell_type": "code",
   "execution_count": null,
   "id": "4e2792b4",
   "metadata": {},
   "outputs": [],
   "source": [
    "# 행, 열 인덱싱\n"
   ]
  },
  {
   "cell_type": "code",
   "execution_count": null,
   "id": "5fd08f1a",
   "metadata": {},
   "outputs": [],
   "source": [
    "# 행, 열 슬라이싱\n"
   ]
  },
  {
   "cell_type": "markdown",
   "id": "db87e18e",
   "metadata": {},
   "source": [
    "### iloc"
   ]
  },
  {
   "cell_type": "code",
   "execution_count": null,
   "id": "4efbd489",
   "metadata": {},
   "outputs": [],
   "source": [
    "# iloc 를 통한 인덱싱\n"
   ]
  },
  {
   "cell_type": "code",
   "execution_count": null,
   "id": "f28c0e7f",
   "metadata": {},
   "outputs": [],
   "source": [
    "# iloc 를 통한 슬라이싱\n"
   ]
  },
  {
   "cell_type": "markdown",
   "id": "b4cec012",
   "metadata": {},
   "source": [
    "## 조건 검색\n",
    "<img src=\"https://pandas.pydata.org/docs/_images/03_subset_columns_rows.svg\">"
   ]
  },
  {
   "cell_type": "code",
   "execution_count": null,
   "id": "573d9102",
   "metadata": {},
   "outputs": [],
   "source": [
    "# Boolean Indexing\n",
    "# 마포구 대여소 찾기\n"
   ]
  },
  {
   "cell_type": "code",
   "execution_count": null,
   "id": "342bdb97",
   "metadata": {},
   "outputs": [],
   "source": [
    "# isin 으로 \"마포구\", \"종로구\" 대여소 찾기\n"
   ]
  },
  {
   "cell_type": "code",
   "execution_count": null,
   "id": "3dbf4f09",
   "metadata": {},
   "outputs": [],
   "source": [
    "# 여러 조건 비교하기\n",
    "# 마포구의 LCD 운영 대여소 찾기\n"
   ]
  },
  {
   "cell_type": "code",
   "execution_count": null,
   "id": "b398b3d4",
   "metadata": {},
   "outputs": [],
   "source": [
    "# 여러 조건 비교하기\n",
    "# 마포구의 LCD 운영 대여소 찾기\n"
   ]
  },
  {
   "cell_type": "code",
   "execution_count": null,
   "id": "472ef579",
   "metadata": {},
   "outputs": [],
   "source": [
    "# 자전거수가 특정 수 이상 있는 대여소 찾기\n"
   ]
  },
  {
   "cell_type": "markdown",
   "id": "471b7920",
   "metadata": {},
   "source": [
    "## 전처리 내용 파일저장하기\n",
    "\n",
    "<img src=\"https://pandas.pydata.org/docs/_images/02_io_readwrite.svg\">"
   ]
  },
  {
   "cell_type": "code",
   "execution_count": null,
   "id": "982a68d1",
   "metadata": {},
   "outputs": [],
   "source": [
    "# 파일명 지정하기\n",
    "file_name = \"data/bike_station.csv\"\n",
    "file_name"
   ]
  },
  {
   "cell_type": "code",
   "execution_count": null,
   "id": "5bfad3f4",
   "metadata": {},
   "outputs": [],
   "source": [
    "# to_csv 로 저장하고 index=False 로 인덱스는 제외하고 저장하기\n"
   ]
  },
  {
   "cell_type": "code",
   "execution_count": null,
   "id": "af3034de",
   "metadata": {},
   "outputs": [],
   "source": [
    "# read_csv 로 저장한 파일 읽어와서 확인하기\n"
   ]
  },
  {
   "cell_type": "markdown",
   "id": "608bc046",
   "metadata": {},
   "source": [
    "* https://pandas.pydata.org/Pandas_Cheat_Sheet.pdf"
   ]
  },
  {
   "cell_type": "code",
   "execution_count": null,
   "id": "7c129cb1",
   "metadata": {},
   "outputs": [],
   "source": []
  }
 ],
 "metadata": {
  "kernelspec": {
   "display_name": "Python 3 (ipykernel)",
   "language": "python",
   "name": "python3"
  },
  "language_info": {
   "codemirror_mode": {
    "name": "ipython",
    "version": 3
   },
   "file_extension": ".py",
   "mimetype": "text/x-python",
   "name": "python",
   "nbconvert_exporter": "python",
   "pygments_lexer": "ipython3",
   "version": "3.7.6"
  },
  "toc": {
   "base_numbering": 1,
   "nav_menu": {},
   "number_sections": true,
   "sideBar": true,
   "skip_h1_title": false,
   "title_cell": "Table of Contents",
   "title_sidebar": "Contents",
   "toc_cell": false,
   "toc_position": {
    "height": "calc(100% - 180px)",
    "left": "10px",
    "top": "150px",
    "width": "288px"
   },
   "toc_section_display": true,
   "toc_window_display": true
  },
  "varInspector": {
   "cols": {
    "lenName": 16,
    "lenType": 16,
    "lenVar": 40
   },
   "kernels_config": {
    "python": {
     "delete_cmd_postfix": "",
     "delete_cmd_prefix": "del ",
     "library": "var_list.py",
     "varRefreshCmd": "print(var_dic_list())"
    },
    "r": {
     "delete_cmd_postfix": ") ",
     "delete_cmd_prefix": "rm(",
     "library": "var_list.r",
     "varRefreshCmd": "cat(var_dic_list()) "
    }
   },
   "types_to_exclude": [
    "module",
    "function",
    "builtin_function_or_method",
    "instance",
    "_Feature"
   ],
   "window_display": false
  }
 },
 "nbformat": 4,
 "nbformat_minor": 5
}
